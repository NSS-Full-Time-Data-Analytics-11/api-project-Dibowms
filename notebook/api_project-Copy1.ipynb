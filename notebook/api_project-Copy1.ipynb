{
 "cells": [
  {
   "cell_type": "code",
   "execution_count": null,
   "id": "00e0eba7",
   "metadata": {},
   "outputs": [],
   "source": [
    "import requests\n",
    "import matplotlib.pyplot as plt"
   ]
  },
  {
   "cell_type": "code",
   "execution_count": null,
   "id": "aa77c70d",
   "metadata": {},
   "outputs": [],
   "source": [
    "endpoint='https://data.nashville.gov/resource/fuaa-r5cm.json?year=2016'"
   ]
  },
  {
   "cell_type": "code",
   "execution_count": null,
   "id": "5cec05bd",
   "metadata": {},
   "outputs": [],
   "source": [
    "response=requests.get(endpoint)"
   ]
  },
  {
   "cell_type": "code",
   "execution_count": null,
   "id": "1971fdb4",
   "metadata": {},
   "outputs": [],
   "source": [
    "response"
   ]
  },
  {
   "cell_type": "code",
   "execution_count": null,
   "id": "69a6436f",
   "metadata": {},
   "outputs": [],
   "source": [
    "response.text"
   ]
  },
  {
   "cell_type": "markdown",
   "id": "1b0aaaba",
   "metadata": {},
   "source": [
    "1. Make an API request that returns the months where \"fire\" was searched in 2016. Which month had the most searches?"
   ]
  },
  {
   "cell_type": "code",
   "execution_count": null,
   "id": "6045c7ed",
   "metadata": {},
   "outputs": [],
   "source": [
    "response.json()"
   ]
  },
  {
   "cell_type": "code",
   "execution_count": null,
   "id": "5f1be5e9",
   "metadata": {},
   "outputs": [],
   "source": [
    "endpoint='https://data.nashville.gov/resource/fuaa-r5cm.json?year=2016'\n",
    "\n",
    "params = {\n",
    "    'query_text':'fire'\n",
    "}\n",
    "\n",
    "response = requests.get(endpoint,params=params)\n",
    "response.text"
   ]
  },
  {
   "cell_type": "code",
   "execution_count": null,
   "id": "45e37411",
   "metadata": {},
   "outputs": [],
   "source": [
    "import pandas as pd"
   ]
  },
  {
   "cell_type": "code",
   "execution_count": null,
   "id": "af2f30cf",
   "metadata": {},
   "outputs": [],
   "source": [
    "data=pd.DataFrame(response.json())\n",
    "data"
   ]
  },
  {
   "cell_type": "code",
   "execution_count": null,
   "id": "285025f5",
   "metadata": {},
   "outputs": [],
   "source": [
    "data.sort_values('query_count',ascending =False)"
   ]
  },
  {
   "cell_type": "markdown",
   "id": "cc259221",
   "metadata": {},
   "source": [
    "Make an API request that returns all the times a query was run more than 100 times in a month. How many times did this occur?"
   ]
  },
  {
   "cell_type": "code",
   "execution_count": null,
   "id": "7eff3aa8",
   "metadata": {},
   "outputs": [],
   "source": [
    "endpoint1='https://data.nashville.gov/resource/fuaa-r5cm.json?$where=query_count>=100'\n",
    "response1 = requests.get(endpoint1)"
   ]
  },
  {
   "cell_type": "code",
   "execution_count": null,
   "id": "1a3f915b",
   "metadata": {},
   "outputs": [],
   "source": [
    "response1"
   ]
  },
  {
   "cell_type": "code",
   "execution_count": null,
   "id": "f16130e0",
   "metadata": {},
   "outputs": [],
   "source": [
    "query_count=pd.DataFrame(response1.json())\n",
    "query_count"
   ]
  },
  {
   "cell_type": "markdown",
   "id": "618ea39e",
   "metadata": {},
   "source": [
    "Make another API request that returns all the times \"codes\" was searched more than 100 times in a month. How many times did this occur?"
   ]
  },
  {
   "cell_type": "code",
   "execution_count": null,
   "id": "596e7f9c",
   "metadata": {},
   "outputs": [],
   "source": []
  },
  {
   "cell_type": "code",
   "execution_count": null,
   "id": "eb34acb9",
   "metadata": {},
   "outputs": [],
   "source": [
    "endpoint2='https://data.nashville.gov/resource/fuaa-r5cm.json?$where=query_count>100'\n",
    "params= {\n",
    "    'query_text' :'codes'\n",
    "    \n",
    "}\n",
    "\n",
    "response2 = requests.get(endpoint2, params = params)"
   ]
  },
  {
   "cell_type": "code",
   "execution_count": null,
   "id": "3da95d48",
   "metadata": {},
   "outputs": [],
   "source": [
    "response2"
   ]
  },
  {
   "cell_type": "code",
   "execution_count": null,
   "id": "d834a8c5",
   "metadata": {},
   "outputs": [],
   "source": [
    "codes_count=pd.DataFrame(response2.json())\n",
    "codes_count"
   ]
  },
  {
   "cell_type": "markdown",
   "id": "06b62ba2",
   "metadata": {},
   "source": [
    "Make an API request that returns the entire Top 500 Monthly Searches dataset. Make a chart that shows the number of times \"maps\" was searched in a month across the entire time frame."
   ]
  },
  {
   "cell_type": "code",
   "execution_count": null,
   "id": "29d97e74",
   "metadata": {},
   "outputs": [],
   "source": [
    "endpoint3='https://data.nashville.gov/resource/fuaa-r5cm.json?$limit=50000'\n",
    "\n",
    "\n",
    "response3 = requests.get(endpoint3)"
   ]
  },
  {
   "cell_type": "code",
   "execution_count": null,
   "id": "43d48be1",
   "metadata": {},
   "outputs": [],
   "source": [
    "response3"
   ]
  },
  {
   "cell_type": "code",
   "execution_count": null,
   "id": "d61343f0",
   "metadata": {},
   "outputs": [],
   "source": [
    "data_map=pd.DataFrame(response3.json())\n",
    "data_map"
   ]
  },
  {
   "cell_type": "code",
   "execution_count": null,
   "id": "2d2cc621",
   "metadata": {},
   "outputs": [],
   "source": [
    "maps_data=data_map.loc[data_map['query_text']=='map']\n",
    "maps_data"
   ]
  },
  {
   "cell_type": "code",
   "execution_count": null,
   "id": "5d4bcea2",
   "metadata": {},
   "outputs": [],
   "source": [
    "maps_data.dtypes"
   ]
  },
  {
   "cell_type": "code",
   "execution_count": null,
   "id": "f6d2a18f",
   "metadata": {},
   "outputs": [],
   "source": [
    "maps_data['query_count']=maps_data['query_count'].astype(int)"
   ]
  },
  {
   "cell_type": "code",
   "execution_count": null,
   "id": "ac9e8443",
   "metadata": {},
   "outputs": [],
   "source": [
    "maps_data['year']=pd.to_datetime(maps_data['year'])"
   ]
  },
  {
   "cell_type": "code",
   "execution_count": null,
   "id": "1708c08f",
   "metadata": {},
   "outputs": [],
   "source": [
    "maps_data.head()"
   ]
  },
  {
   "cell_type": "code",
   "execution_count": null,
   "id": "6077bef3",
   "metadata": {},
   "outputs": [],
   "source": [
    "maps_data.plot(kind='bar',\n",
    "              x='month_name',\n",
    "              y='query_count',\n",
    "              figsize=(12,6));"
   ]
  },
  {
   "cell_type": "markdown",
   "id": "ed2de933",
   "metadata": {},
   "source": [
    "Make an API request to pull back all the data from [hubNashville (311) Service Requests](https://data.nashville.gov/Public-Services/hubNashville-311-Service-Requests/7qhx-rexh) (check to see how many rows you can return in a single request). Compare it to the Top 500 Monthly Searches data set. What do you observe? (This is open-ended, there isn't a specific answer for this one)"
   ]
  },
  {
   "cell_type": "code",
   "execution_count": null,
   "id": "57d6c5c3",
   "metadata": {},
   "outputs": [],
   "source": [
    "endpoint4='https://data.nashville.gov/resource/fuaa-r5cm.json?$limit=50000000'\n",
    "\n",
    "\n",
    "response4 = requests.get(endpoint4)"
   ]
  },
  {
   "cell_type": "code",
   "execution_count": null,
   "id": "820f861a",
   "metadata": {},
   "outputs": [],
   "source": [
    "response4"
   ]
  },
  {
   "cell_type": "code",
   "execution_count": null,
   "id": "e361048d",
   "metadata": {},
   "outputs": [],
   "source": [
    "data_500=pd.DataFrame(response4.json())\n",
    "data_500"
   ]
  },
  {
   "cell_type": "code",
   "execution_count": null,
   "id": "e5b1ed9b",
   "metadata": {},
   "outputs": [],
   "source": [
    "len(data_500)"
   ]
  },
  {
   "cell_type": "code",
   "execution_count": null,
   "id": "5e914aca",
   "metadata": {},
   "outputs": [],
   "source": [
    "endpoint5='https://data.nashville.gov/resource/fuaa-r5cm.json?$limit=500'\n",
    "\n",
    "\n",
    "response5 = requests.get(endpoint5)"
   ]
  },
  {
   "cell_type": "code",
   "execution_count": null,
   "id": "29556bbc",
   "metadata": {},
   "outputs": [],
   "source": [
    "response5"
   ]
  },
  {
   "cell_type": "code",
   "execution_count": null,
   "id": "63bc6766",
   "metadata": {},
   "outputs": [],
   "source": [
    "data_500_lm=pd.DataFrame(response5.json())\n",
    "data_500_lm"
   ]
  },
  {
   "cell_type": "markdown",
   "id": "4315845a",
   "metadata": {},
   "source": [
    "Find 2 new data sets on data.nashville.gov, make API requests to pull the data, and do an analysis that combines the data sets."
   ]
  },
  {
   "cell_type": "markdown",
   "id": "2efd7d04",
   "metadata": {},
   "source": [
    "7. Socrata is used by many cities, states, and federal organizations. Find additional datasets through [Socrata's Open Data Network](http://www.opendatanetwork.com/) and do an analysis comparing them to Nashville or each other."
   ]
  },
  {
   "cell_type": "code",
   "execution_count": null,
   "id": "0ee693ec",
   "metadata": {},
   "outputs": [],
   "source": []
  },
  {
   "cell_type": "code",
   "execution_count": null,
   "id": "9348aa37",
   "metadata": {},
   "outputs": [],
   "source": []
  },
  {
   "cell_type": "code",
   "execution_count": null,
   "id": "baaa7991",
   "metadata": {},
   "outputs": [],
   "source": []
  },
  {
   "cell_type": "code",
   "execution_count": null,
   "id": "a8586dcf",
   "metadata": {},
   "outputs": [],
   "source": []
  }
 ],
 "metadata": {
  "kernelspec": {
   "display_name": "Python 3 (ipykernel)",
   "language": "python",
   "name": "python3"
  },
  "language_info": {
   "codemirror_mode": {
    "name": "ipython",
    "version": 3
   },
   "file_extension": ".py",
   "mimetype": "text/x-python",
   "name": "python",
   "nbconvert_exporter": "python",
   "pygments_lexer": "ipython3",
   "version": "3.11.5"
  }
 },
 "nbformat": 4,
 "nbformat_minor": 5
}
